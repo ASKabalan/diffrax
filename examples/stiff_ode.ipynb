{
 "cells": [
  {
   "cell_type": "markdown",
   "id": "ffa21c43-b586-40e4-be02-d4e3b1ddfc80",
   "metadata": {},
   "source": [
    "# Stiff ODE"
   ]
  },
  {
   "cell_type": "markdown",
   "id": "e55cd9cb-2a99-4789-8c08-2b75b2903367",
   "metadata": {},
   "source": [
    "This example demonstrates the use of implicit integrators to handle stiff dynamical systems. In this case we consider the Robertson problem."
   ]
  },
  {
   "cell_type": "code",
   "execution_count": null,
   "id": "66e7fb70-7dc5-4509-bdcb-6606c42fab52",
   "metadata": {},
   "outputs": [],
   "source": [
    "import time\n",
    "\n",
    "import diffrax\n",
    "import equinox as eqx\n",
    "import jax\n",
    "import jax.numpy as jnp"
   ]
  },
  {
   "cell_type": "markdown",
   "id": "d30345d3-aba7-4f1c-bada-97816b0ab0d6",
   "metadata": {},
   "source": [
    "We often need 64-bit precision when handling this kind of problem. In particular, one of the channels of the Robertson problem starts at 0, increases to about 3.6e-5, and then decays back down to 0 again. We don't want that behaviour to get lost due to floating-point inaccuracies."
   ]
  },
  {
   "cell_type": "code",
   "execution_count": null,
   "id": "c301be95-7ebd-4137-a189-c92d2808568f",
   "metadata": {},
   "outputs": [],
   "source": [
    "jax.config.update(\"jax_enable_x64\", True)"
   ]
  },
  {
   "cell_type": "code",
   "execution_count": null,
   "id": "1102230f-b28d-45d5-9167-c60cf1f25f09",
   "metadata": {},
   "outputs": [],
   "source": [
    "class Robertson(eqx.Module):\n",
    "    k1: float\n",
    "    k2: float\n",
    "    k3: float\n",
    "\n",
    "    def __call__(self, t, y, args):\n",
    "        f0 = -self.k1 * y[0] + self.k3 * y[1] * y[2]\n",
    "        f1 = self.k1 * y[0] - self.k2 * y[1] ** 2 - self.k3 * y[1] * y[2]\n",
    "        f2 = self.k2 * y[1] ** 2\n",
    "        return jnp.stack([f0, f1, f2])"
   ]
  },
  {
   "cell_type": "markdown",
   "id": "15c6035a-4143-4680-9e27-f03c6666d28e",
   "metadata": {},
   "source": [
    "One should typically use adaptive step sizes when using implicit integrators, so that the step size can be reduced if its nonlinear solve fails. It's generally worth setting the `rtol`, `atol` of the nonlinear solver to the same as is used in the stepsize controller.\n",
    "\n",
    "The speed of the solver can be heavily dependent on the parameters used for the nonlinear solver -- have a play with its error tolerances, kappa value, and maximum number of steps."
   ]
  },
  {
   "cell_type": "code",
   "execution_count": null,
   "id": "d136fd1c-0514-4d3e-b0c4-b17d20ded4b3",
   "metadata": {},
   "outputs": [],
   "source": [
    "def main(k1, k2, k3):\n",
    "    robertson = Robertson(k1, k2, k3)\n",
    "    solver = diffrax.kvaerno5(\n",
    "        robertson,\n",
    "        nonlinear_solver=diffrax.NewtonNonlinearSolver(\n",
    "            rtol=1e-7, atol=1e-8, max_steps=10\n",
    "        ),\n",
    "    )\n",
    "    t0 = 0.0\n",
    "    t1 = 100.0\n",
    "    y0 = jnp.array([1.0, 0.0, 0.0])\n",
    "    dt0 = 0.0002\n",
    "    saveat = diffrax.SaveAt(ts=jnp.array([0.0, 1e-4, 1e-3, 1e-2, 1e-1, 1e0, 1e1, 1e2]))\n",
    "    stepsize_controller = diffrax.IController(rtol=1e-7, atol=1e-8)\n",
    "    sol = diffrax.diffeqsolve(\n",
    "        solver,\n",
    "        t0=t0,\n",
    "        t1=t1,\n",
    "        y0=y0,\n",
    "        dt0=dt0,\n",
    "        saveat=saveat,\n",
    "        stepsize_controller=stepsize_controller,\n",
    "    )\n",
    "    return sol"
   ]
  },
  {
   "cell_type": "markdown",
   "id": "2e0a6bcf-90c9-45ea-82dd-32a404e3a348",
   "metadata": {},
   "source": [
    "Do one iteration to JIT compile everything. Then time the second iteration."
   ]
  },
  {
   "cell_type": "code",
   "execution_count": null,
   "id": "1526ac97-1638-4229-b678-abcd29ef851a",
   "metadata": {},
   "outputs": [],
   "source": [
    "main(0.04, 3e7, 1e4)\n",
    "\n",
    "start = time.time()\n",
    "sol = main(0.04, 3e7, 1e4)\n",
    "end = time.time()\n",
    "\n",
    "print(\"Results:\")\n",
    "for ti, yi in zip(sol.ts, sol.ys):\n",
    "    print(f\"t={ti.item()}, y={yi.tolist()}\")\n",
    "print(f\"Took {sol.stats['num_steps']} steps in {end - start} seconds.\")"
   ]
  }
 ],
 "metadata": {
  "kernelspec": {
   "display_name": "Python 3 (ipykernel)",
   "language": "python",
   "name": "python3"
  },
  "language_info": {
   "codemirror_mode": {
    "name": "ipython",
    "version": 3
   },
   "file_extension": ".py",
   "mimetype": "text/x-python",
   "name": "python",
   "nbconvert_exporter": "python",
   "pygments_lexer": "ipython3",
   "version": "3.8.11"
  }
 },
 "nbformat": 4,
 "nbformat_minor": 5
}
