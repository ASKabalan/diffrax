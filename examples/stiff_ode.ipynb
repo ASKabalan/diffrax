{
 "cells": [
  {
   "cell_type": "markdown",
   "id": "1fe536ed",
   "metadata": {},
   "source": [
    "# Stiff ODE"
   ]
  },
  {
   "cell_type": "markdown",
   "id": "324996ff",
   "metadata": {},
   "source": [
    "This example demonstrates the use of implicit integrators to handle stiff dynamical systems. In this case we consider the Robertson problem.\n",
    "\n",
    "This example is available as a Jupyter notebook [here](https://github.com/patrick-kidger/diffrax/blob/main/examples/stiff_ode.ipynb)."
   ]
  },
  {
   "cell_type": "code",
   "execution_count": 1,
   "id": "6d6bdf63",
   "metadata": {
    "execution": {
     "iopub.execute_input": "2022-02-01T13:53:53.780246Z",
     "iopub.status.busy": "2022-02-01T13:53:53.776216Z",
     "iopub.status.idle": "2022-02-01T13:53:55.004567Z",
     "shell.execute_reply": "2022-02-01T13:53:55.003662Z"
    }
   },
   "outputs": [],
   "source": [
    "import time\n",
    "\n",
    "import diffrax\n",
    "import equinox as eqx  # https://github.com/patrick-kidger/equinox\n",
    "import jax\n",
    "import jax.numpy as jnp"
   ]
  },
  {
   "cell_type": "markdown",
   "id": "c389c1dc",
   "metadata": {},
   "source": [
    "Using 64-bit precision is important when solving problems with tolerances of `1e-8` (or smaller)."
   ]
  },
  {
   "cell_type": "code",
   "execution_count": 2,
   "id": "327c1eda",
   "metadata": {
    "execution": {
     "iopub.execute_input": "2022-02-01T13:53:55.009672Z",
     "iopub.status.busy": "2022-02-01T13:53:55.008879Z",
     "iopub.status.idle": "2022-02-01T13:53:55.011375Z",
     "shell.execute_reply": "2022-02-01T13:53:55.010683Z"
    }
   },
   "outputs": [],
   "source": [
    "jax.config.update(\"jax_enable_x64\", True)"
   ]
  },
  {
   "cell_type": "code",
   "execution_count": 3,
   "id": "62c84f51",
   "metadata": {
    "execution": {
     "iopub.execute_input": "2022-02-01T13:53:55.016879Z",
     "iopub.status.busy": "2022-02-01T13:53:55.016092Z",
     "iopub.status.idle": "2022-02-01T13:53:55.084685Z",
     "shell.execute_reply": "2022-02-01T13:53:55.084196Z"
    }
   },
   "outputs": [],
   "source": [
    "class Robertson(eqx.Module):\n",
    "    k1: float\n",
    "    k2: float\n",
    "    k3: float\n",
    "\n",
    "    def __call__(self, t, y, args):\n",
    "        f0 = -self.k1 * y[0] + self.k3 * y[1] * y[2]\n",
    "        f1 = self.k1 * y[0] - self.k2 * y[1] ** 2 - self.k3 * y[1] * y[2]\n",
    "        f2 = self.k2 * y[1] ** 2\n",
    "        return jnp.stack([f0, f1, f2])"
   ]
  },
  {
   "cell_type": "markdown",
   "id": "aa95b544",
   "metadata": {},
   "source": [
    "One should almost always use adaptive step sizes when using implicit integrators. This is so that the step size can be reduced if the nonlinear solve (inside the implicit solve) doesn't converge.\n",
    "\n",
    "Note that the solver takes a `nonlinear_solver` argument, e.g. `Kvaerno5(nonlinear_solver=NewtonNonlinearSolver())`. If you want to optimise performance then you can try adjusting the error tolerances, kappa value, and maximum number of steps for the nonlinear solver."
   ]
  },
  {
   "cell_type": "code",
   "execution_count": 4,
   "id": "e15519bc",
   "metadata": {
    "execution": {
     "iopub.execute_input": "2022-02-01T13:53:55.091376Z",
     "iopub.status.busy": "2022-02-01T13:53:55.090598Z",
     "iopub.status.idle": "2022-02-01T13:53:55.267987Z",
     "shell.execute_reply": "2022-02-01T13:53:55.268568Z"
    }
   },
   "outputs": [],
   "source": [
    "def main(k1, k2, k3):\n",
    "    robertson = Robertson(k1, k2, k3)\n",
    "    terms = diffrax.ODETerm(robertson)\n",
    "    t0 = 0.0\n",
    "    t1 = 100.0\n",
    "    y0 = jnp.array([1.0, 0.0, 0.0])\n",
    "    dt0 = 0.0002\n",
    "    solver = diffrax.Kvaerno5()\n",
    "    saveat = diffrax.SaveAt(ts=jnp.array([0.0, 1e-4, 1e-3, 1e-2, 1e-1, 1e0, 1e1, 1e2]))\n",
    "    stepsize_controller = diffrax.PIDController(rtol=1e-8, atol=1e-8)\n",
    "    sol = diffrax.diffeqsolve(\n",
    "        terms,\n",
    "        solver,\n",
    "        t0,\n",
    "        t1,\n",
    "        dt0,\n",
    "        y0,\n",
    "        saveat=saveat,\n",
    "        stepsize_controller=stepsize_controller,\n",
    "    )\n",
    "    return sol"
   ]
  },
  {
   "cell_type": "markdown",
   "id": "1ac4ccb4",
   "metadata": {},
   "source": [
    "Do one iteration to JIT compile everything. Then time the second iteration."
   ]
  },
  {
   "cell_type": "code",
   "execution_count": 5,
   "id": "7c13ba1c",
   "metadata": {
    "execution": {
     "iopub.execute_input": "2022-02-01T13:53:55.274923Z",
     "iopub.status.busy": "2022-02-01T13:53:55.274021Z",
     "iopub.status.idle": "2022-02-01T13:54:01.847623Z",
     "shell.execute_reply": "2022-02-01T13:54:01.848482Z"
    }
   },
   "outputs": [
    {
     "name": "stdout",
     "output_type": "stream",
     "text": [
      "Results:\n",
      "t=0.0, y=[1.0, 0.0, 0.0]\n",
      "t=0.0001, y=[0.999996000007953, 3.983704237380768e-06, 1.628780961497255e-08]\n",
      "t=0.001, y=[0.9999600015673539, 2.9156706209642973e-05, 1.0841726436529532e-05]\n",
      "t=0.01, y=[0.9996006826969162, 3.645054663824169e-05, 0.00036286675644596353]\n",
      "t=0.1, y=[0.9960777378710308, 3.580437093844101e-05, 0.0038864577580309417]\n",
      "t=1.0, y=[0.9664596343963407, 3.0746640326401596e-05, 0.03350961896333311]\n",
      "t=10.0, y=[0.8413698604434637, 1.6234141120668198e-05, 0.15861390541541645]\n",
      "t=100.0, y=[0.6172348816756787, 6.153591245041087e-06, 0.3827589647330769]\n",
      "Took 32 steps in 0.0021119117736816406 seconds.\n"
     ]
    }
   ],
   "source": [
    "main(0.04, 3e7, 1e4)\n",
    "\n",
    "start = time.time()\n",
    "sol = main(0.04, 3e7, 1e4)\n",
    "end = time.time()\n",
    "\n",
    "print(\"Results:\")\n",
    "for ti, yi in zip(sol.ts, sol.ys):\n",
    "    print(f\"t={ti.item()}, y={yi.tolist()}\")\n",
    "print(f\"Took {sol.stats['num_steps']} steps in {end - start} seconds.\")"
   ]
  }
 ],
 "metadata": {
  "jupytext": {
   "formats": "ipynb,py:light"
  },
  "kernelspec": {
   "display_name": "jax0227",
   "language": "python",
   "name": "jax0227"
  },
  "language_info": {
   "codemirror_mode": {
    "name": "ipython",
    "version": 3
   },
   "file_extension": ".py",
   "mimetype": "text/x-python",
   "name": "python",
   "nbconvert_exporter": "python",
   "pygments_lexer": "ipython3",
   "version": "3.9.7"
  }
 },
 "nbformat": 4,
 "nbformat_minor": 5
}
